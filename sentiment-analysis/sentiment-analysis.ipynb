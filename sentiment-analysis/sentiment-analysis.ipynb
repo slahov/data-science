{
 "cells": [
  {
   "cell_type": "code",
   "id": "initial_id",
   "metadata": {
    "collapsed": true,
    "ExecuteTime": {
     "end_time": "2024-11-12T17:31:18.245674Z",
     "start_time": "2024-11-12T17:31:18.058952Z"
    }
   },
   "source": [
    "import pandas as pd\n",
    "import numpy as np"
   ],
   "outputs": [],
   "execution_count": 1
  },
  {
   "metadata": {
    "ExecuteTime": {
     "end_time": "2024-11-12T17:31:23.356220Z",
     "start_time": "2024-11-12T17:31:20.725567Z"
    }
   },
   "cell_type": "code",
   "source": "data = pd.read_csv('Sentiment140-dataset.csv', encoding =\"ISO-8859-1\")",
   "id": "82dcaf8091c80152",
   "outputs": [],
   "execution_count": 2
  },
  {
   "metadata": {
    "ExecuteTime": {
     "end_time": "2024-11-12T17:31:34.944288Z",
     "start_time": "2024-11-12T17:31:34.930986Z"
    }
   },
   "cell_type": "code",
   "source": "data.rename(columns={\"@switchfoot http://twitpic.com/2y1zl - Awww, that's a bummer.  You shoulda got David Carr of Third Day to do it. ;D\": 'tweets'}, inplace=True)",
   "id": "ef683266f49c771f",
   "outputs": [],
   "execution_count": 3
  },
  {
   "metadata": {
    "ExecuteTime": {
     "end_time": "2024-11-12T17:31:39.227608Z",
     "start_time": "2024-11-12T17:31:39.052579Z"
    }
   },
   "cell_type": "code",
   "source": "print(np.sum(data.isnull().any(axis=1)))  # checking null values",
   "id": "2bb5d62be6361002",
   "outputs": [
    {
     "name": "stdout",
     "output_type": "stream",
     "text": [
      "0\n"
     ]
    }
   ],
   "execution_count": 4
  },
  {
   "metadata": {
    "ExecuteTime": {
     "end_time": "2024-11-12T17:31:44.668204Z",
     "start_time": "2024-11-12T17:31:44.665809Z"
    }
   },
   "cell_type": "code",
   "source": [
    "X = data.iloc[:, -1]\n",
    "y = data.iloc[:, 0]"
   ],
   "id": "a24791eaa1ff240c",
   "outputs": [],
   "execution_count": 5
  },
  {
   "metadata": {
    "ExecuteTime": {
     "end_time": "2024-11-12T17:33:55.705768Z",
     "start_time": "2024-11-12T17:33:55.694495Z"
    }
   },
   "cell_type": "code",
   "source": [
    "import os \n",
    "import pickle\n",
    "\n",
    "directory = 'processed-data/'\n",
    "if not os.path.exists(directory):\n",
    "    os.makedirs(directory)\n",
    "    \n",
    "y.to_pickle(os.path.join(directory, 'y_labels.pkl')) # saving labels to the processed-data directory for future use"
   ],
   "id": "7e613d298afc2f21",
   "outputs": [],
   "execution_count": 7
  },
  {
   "metadata": {
    "ExecuteTime": {
     "end_time": "2024-11-12T17:35:31.256684Z",
     "start_time": "2024-11-12T17:35:27.633928Z"
    }
   },
   "cell_type": "code",
   "source": [
    "X = X.replace(r'http\\S+|https\\S+', '', regex=True) # remove URLs\n",
    "X = X.replace(r'@\\w+', '', regex=True) # remove mentions (@user)\n",
    "X = X.replace(r'#', '', regex=True) # remove hashtags\n",
    "X = X.replace(r'[^a-zA-Z\\s]', '', regex=True) # remove special characters and numbers (keeping only letters and whitespace)"
   ],
   "id": "2890ad57cffb1c76",
   "outputs": [],
   "execution_count": 8
  },
  {
   "metadata": {
    "ExecuteTime": {
     "end_time": "2024-11-12T17:35:33.425438Z",
     "start_time": "2024-11-12T17:35:33.020607Z"
    }
   },
   "cell_type": "code",
   "source": "X = X.str.lower() # convert text to lowercase",
   "id": "3cd6e596ebdac416",
   "outputs": [],
   "execution_count": 9
  },
  {
   "metadata": {
    "ExecuteTime": {
     "end_time": "2024-11-12T17:36:48.328216Z",
     "start_time": "2024-11-12T17:35:35.299182Z"
    }
   },
   "cell_type": "code",
   "source": [
    "from nltk.tokenize import word_tokenize\n",
    "X_tokenized = X.apply(word_tokenize) # tokenize the text\n",
    "X_tokenized.to_pickle(os.path.join(directory, 'X_tokenized.pkl'))"
   ],
   "id": "5bcf0c365d8a4a02",
   "outputs": [],
   "execution_count": 10
  },
  {
   "metadata": {
    "ExecuteTime": {
     "end_time": "2024-11-12T17:37:46.479515Z",
     "start_time": "2024-11-12T17:37:37.760076Z"
    }
   },
   "cell_type": "code",
   "source": [
    "from nltk.corpus import stopwords\n",
    "stop_words = set(stopwords.words('english'))\n",
    "X_filtered = X_tokenized.apply(lambda tokens: [word for word in tokens if word not in stop_words])\n",
    "X_filtered.to_pickle(os.path.join(directory, 'X_filtered.pkl'))"
   ],
   "id": "989ff375f20516b1",
   "outputs": [],
   "execution_count": 11
  },
  {
   "metadata": {
    "ExecuteTime": {
     "end_time": "2024-11-12T17:40:04.483507Z",
     "start_time": "2024-11-12T17:38:24.577945Z"
    }
   },
   "cell_type": "code",
   "source": [
    "from nltk.stem import PorterStemmer\n",
    "stemmer = PorterStemmer() # initialize the stemmer\n",
    "X_stemmed = X_filtered.apply(lambda x: [stemmer.stem(word) for word in x]) # apply stemming\n",
    "X_stemmed.to_pickle(os.path.join(directory, 'X_stemmed.pkl'))"
   ],
   "id": "3602bc2a67918e1",
   "outputs": [],
   "execution_count": 12
  },
  {
   "metadata": {
    "ExecuteTime": {
     "end_time": "2024-11-12T17:40:24.297035Z",
     "start_time": "2024-11-12T17:40:24.294800Z"
    }
   },
   "cell_type": "code",
   "source": [
    "import nltk \n",
    "from nltk.stem import WordNetLemmatizer\n",
    "from nltk.corpus import wordnet\n",
    "lemmatizer = WordNetLemmatizer() # initialize the lemmatizer"
   ],
   "id": "acfbc7d1d41a7718",
   "outputs": [],
   "execution_count": 13
  },
  {
   "metadata": {
    "ExecuteTime": {
     "end_time": "2024-11-12T17:40:29.033781Z",
     "start_time": "2024-11-12T17:40:29.031152Z"
    }
   },
   "cell_type": "code",
   "source": [
    "# function to map the part of speech (POS) to the format that WordNetLemmatizer accepts\n",
    "def get_wordnet_pos(word):\n",
    "    # return the POS tag of the word in tupple ('running', 'VGB'), \n",
    "    # [0][1][0] extract the first letter of the POS tag 'VGB', so it becomes 'V'\n",
    "    tag = nltk.pos_tag([word])[0][1][0].upper() \n",
    "    tag_dict = {\"J\": wordnet.ADJ, \"N\": wordnet.NOUN, \"V\": wordnet.VERB, \"R\": wordnet.ADV} # mapping\n",
    "    return tag_dict.get(tag, wordnet.NOUN)"
   ],
   "id": "2d33e5b312193cbe",
   "outputs": [],
   "execution_count": 14
  },
  {
   "metadata": {
    "ExecuteTime": {
     "end_time": "2024-11-12T18:42:12.904654Z",
     "start_time": "2024-11-12T17:41:01.452649Z"
    }
   },
   "cell_type": "code",
   "source": [
    "X_lemmatized = X.apply(lambda tokens: [lemmatizer.lemmatize(word, get_wordnet_pos(word)) for word in tokens])\n",
    "X_lemmatized.to_pickle(os.path.join(directory, 'X_lemmatized.pkl'))"
   ],
   "id": "3db72addebad5e62",
   "outputs": [],
   "execution_count": 15
  }
 ],
 "metadata": {
  "kernelspec": {
   "display_name": "Python 3",
   "language": "python",
   "name": "python3"
  },
  "language_info": {
   "codemirror_mode": {
    "name": "ipython",
    "version": 2
   },
   "file_extension": ".py",
   "mimetype": "text/x-python",
   "name": "python",
   "nbconvert_exporter": "python",
   "pygments_lexer": "ipython2",
   "version": "2.7.6"
  }
 },
 "nbformat": 4,
 "nbformat_minor": 5
}
